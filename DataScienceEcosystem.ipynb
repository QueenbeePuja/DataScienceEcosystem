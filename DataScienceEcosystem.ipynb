{
 "cells": [
  {
   "cell_type": "markdown",
   "id": "f6c24087-e526-4fba-aaa5-18c92901bc24",
   "metadata": {},
   "source": [
    "Data Science tools and Ecosystem"
   ]
  },
  {
   "cell_type": "markdown",
   "id": "eb7ad3ff-debc-4afb-9625-71fc0a3f8c77",
   "metadata": {},
   "source": [
    "In this notebook, Data Science Tools and Ecosystem are summarized."
   ]
  },
  {
   "cell_type": "markdown",
   "id": "af5797e1-5a2b-4943-934f-18bce66bdf3c",
   "metadata": {},
   "source": [
    "Some of the popular languages that Data Scientists use are:\n",
    "<ol>\n",
    "    <li>Python</li>\n",
    "    <li>R</li>\n",
    "    <li>SQL</li>\n",
    "</ol>\n"
   ]
  },
  {
   "cell_type": "markdown",
   "id": "04fd8abb-2c0e-44e6-995f-4fe844aa65f1",
   "metadata": {},
   "source": [
    "<b>Objectives:\n",
    "<ul>\n",
    "    <li>What is Data Science and its Fundamentals</li>\n",
    "    <li>Tools for Data Science</li>\n",
    "    <li>Libraries Used by Data Scientists</li>\n",
    "    <li>List popular languages for Data Science</li>\n",
    "    <li>Arithmetic expressions in Python</li>\n",
    "</ul>"
   ]
  },
  {
   "cell_type": "markdown",
   "id": "b555d239-bcc0-4a9b-92b8-a75a19a54d25",
   "metadata": {},
   "source": [
    "Some of the commonly used libraries used by Data Scientists include:\n",
    "<ol>\n",
    "    <li>Scientific computing Libraries in Python\n",
    "    <ul>\n",
    "    <li>NumPy</li>\n",
    "    <li>Pandas</li>    \n",
    "    </ul>\n",
    "    </li>\n",
    "    <li>Visualization Libraries\n",
    "     <ul>\n",
    "       <li>Matplotlib</li>  \n",
    "    <li>seaborn</li>    \n",
    "    </ul>\n",
    "    </li>\n",
    "    <li>Machine Learning and Deep learning Libraries\n",
    "     <ul>\n",
    "       <li>Scikit-Learn</li>  \n",
    "    <li>Keras</li>    \n",
    "    </ul>\n",
    "    </li>\n",
    "</ol>"
   ]
  },
  {
   "cell_type": "markdown",
   "id": "1825700f-3a42-44d2-a9fb-9d752b2fc621",
   "metadata": {},
   "source": [
    "<table>\n",
    "    <tr>\n",
    "        <th>Data Science Tools</th>\n",
    "    </tr>\n",
    "    <tr>\n",
    "        <td>Jupyter Notebook</td>\n",
    "    </tr>\n",
    "    <tr>\n",
    "        <td>R studio</td>\n",
    "    </tr>\n",
    "    <tr>\n",
    "        <td>Aparche Spark</td>\n",
    "    </tr>\n",
    "</table>"
   ]
  },
  {
   "cell_type": "markdown",
   "id": "775bd0ad-e5fc-4a1c-b322-2e99312ba213",
   "metadata": {},
   "source": [
    "<h3>Below are a few examples of evaluating arithmetic expressions in Python</h3>"
   ]
  },
  {
   "cell_type": "code",
   "execution_count": 2,
   "id": "b19804ce-553e-4499-a304-59c8044bbb69",
   "metadata": {},
   "outputs": [
    {
     "data": {
      "text/plain": [
       "17"
      ]
     },
     "execution_count": 2,
     "metadata": {},
     "output_type": "execute_result"
    }
   ],
   "source": [
    "(3*4)+5"
   ]
  },
  {
   "cell_type": "code",
   "execution_count": 3,
   "id": "93cc5afc-82a3-483b-bf6e-8a8ce3dcf4cd",
   "metadata": {},
   "outputs": [
    {
     "data": {
      "text/plain": [
       "3.3333333333333335"
      ]
     },
     "execution_count": 3,
     "metadata": {},
     "output_type": "execute_result"
    }
   ],
   "source": [
    "#This will convert 200 minutes to hours by diving by 60\n",
    "200/60"
   ]
  },
  {
   "cell_type": "markdown",
   "id": "a54c0f94-a68c-46c0-9048-1a7bf39d9cac",
   "metadata": {},
   "source": [
    "<h2>Author</h2>\n",
    "PUJA"
   ]
  }
 ],
 "metadata": {
  "kernelspec": {
   "display_name": "anaconda-2024.02-py310",
   "language": "python",
   "name": "conda-env-anaconda-2024.02-py310-py"
  },
  "language_info": {
   "codemirror_mode": {
    "name": "ipython",
    "version": 3
   },
   "file_extension": ".py",
   "mimetype": "text/x-python",
   "name": "python",
   "nbconvert_exporter": "python",
   "pygments_lexer": "ipython3",
   "version": "3.10.14"
  }
 },
 "nbformat": 4,
 "nbformat_minor": 5
}
